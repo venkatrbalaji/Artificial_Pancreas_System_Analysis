{
 "cells": [
  {
   "cell_type": "code",
   "execution_count": 2,
   "metadata": {},
   "outputs": [],
   "source": [
    "from math import isnan, log, ceil\n",
    "import pandas as pd\n",
    "import numpy as np\n",
    "from datetime import timedelta\n",
    "from scipy.fftpack import rfft, rfftfreq\n",
    "import matplotlib.pyplot as plt\n",
    "from scipy.signal import find_peaks\n",
    "from sklearn import svm, metrics\n",
    "from sklearn.metrics import silhouette_score, adjusted_rand_score, mean_squared_error\n",
    "from sklearn.decomposition import PCA\n",
    "from sklearn.neighbors import NearestNeighbors\n",
    "from sklearn.model_selection import GridSearchCV\n",
    "from sklearn.cluster import KMeans, DBSCAN\n",
    "from sklearn.preprocessing import StandardScaler\n",
    "from collections import defaultdict"
   ]
  },
  {
   "cell_type": "code",
   "execution_count": 3,
   "metadata": {},
   "outputs": [],
   "source": [
    "def extract_meal_and_no_meal_instances(cgm_data_file, insulin_data_file):\n",
    "    if \".xls\" in cgm_data_file:\n",
    "        cgm_df = pd.read_excel(cgm_data_file, parse_dates=[['Date', 'Time']])\n",
    "    elif \".csv\" in cgm_data_file:\n",
    "        cgm_df = pd.read_csv(cgm_data_file, parse_dates=[\n",
    "                             ['Date', 'Time']], low_memory=False)\n",
    "\n",
    "    if \".xls\" in insulin_data_file:\n",
    "        insulin_df = pd.read_excel(\n",
    "            insulin_data_file, parse_dates=[['Date', 'Time']])\n",
    "    elif \".csv\" in insulin_data_file:\n",
    "        insulin_df = pd.read_csv(insulin_data_file, parse_dates=[\n",
    "                                 ['Date', 'Time']], low_memory=False)\n",
    "\n",
    "    # Filter only the needed fields to cp_df dataframe\n",
    "    cp_df = cgm_df[['Date_Time', 'Sensor Glucose (mg/dL)']]\n",
    "    cp_df = cp_df.set_index(['Date_Time'])\n",
    "    cp_df.sort_index(inplace=True)\n",
    "\n",
    "    # Filter only the needed fields to cp_ins_df dataframe\n",
    "    cp_ins_df = insulin_df[['Date_Time', 'BWZ Carb Input (grams)']]\n",
    "\n",
    "    # extract rows with Carb/meal intake values > 0\n",
    "    meal_intake_rows = cp_ins_df.loc[cp_ins_df['BWZ Carb Input (grams)'] > 0, [\n",
    "        'Date_Time', 'BWZ Carb Input (grams)']]\n",
    "    meal_intake_rows.sort_values(['Date_Time'], inplace=True)\n",
    "    meal_intake_rows.reset_index(inplace=True)\n",
    "    meal_intake_rows.drop('index', inplace=True, axis=1)\n",
    "    # 'BWZ Carb Input (grams)'\n",
    "    valid_meal_data_times = meal_intake_rows\n",
    "\n",
    "    rows_to_drop = []\n",
    "    last_date = valid_meal_data_times['Date_Time'][0]-timedelta(hours=10)\n",
    "\n",
    "    for ind, row in valid_meal_data_times.iterrows():\n",
    "        if row['Date_Time'] < (last_date+timedelta(hours=4)):\n",
    "            rows_to_drop.append(ind-1)\n",
    "        last_date = row['Date_Time']\n",
    "\n",
    "    valid_meal_data_times.drop(rows_to_drop, inplace=True)\n",
    "    valid_meal_data_times.reset_index(inplace=True)\n",
    "\n",
    "    # Extract Meal and No_meal window data\n",
    "    meal_data = pd.DataFrame()\n",
    "    no_meal_data = pd.DataFrame()\n",
    "\n",
    "    for ind, row in valid_meal_data_times.iterrows():\n",
    "        # meal_time window data\n",
    "        m_data = cp_df[row['Date_Time'] -\n",
    "                       timedelta(minutes=30):row['Date_Time']+timedelta(hours=2)]\n",
    "        # no_meal_time window data\n",
    "        n_m_data = cp_df[row['Date_Time'] +\n",
    "                         timedelta(hours=2):row['Date_Time']+timedelta(hours=4)]\n",
    "\n",
    "        # m_data = pd.concat([m_data, row['BWZ Carb Input (grams)']], axis=1)\n",
    "\n",
    "        m_data.reset_index(inplace=True)\n",
    "        n_m_data.reset_index(inplace=True)\n",
    "\n",
    "        # Avoid meal and no_meal data instances with less than 30 and 24 observations respectively on a particular time window\n",
    "        # Avoid instances with more than 5 NaN values\n",
    "        if (len(m_data) >= 30) and (m_data['Sensor Glucose (mg/dL)'][:30].isna().sum() <= 5):\n",
    "        # if (len(m_data) >= 30):\n",
    "            m_data = m_data['Sensor Glucose (mg/dL)'][:30]\n",
    "            m_data.at[30] = row['BWZ Carb Input (grams)']\n",
    "            # m_data.set_value(30, row['BWZ Carb Input (grams)'])\n",
    "            meal_data = pd.concat(\n",
    "                [meal_data, m_data], ignore_index=True, axis=1)\n",
    "            # print(row['BWZ Carb Input (grams)'])\n",
    "            # print(m_data)\n",
    "\n",
    "        if (len(n_m_data) >= 24) and (n_m_data['Sensor Glucose (mg/dL)'][:24].isna().sum() <= 5):\n",
    "        # if (len(n_m_data) >= 24):\n",
    "            no_meal_data = pd.concat(\n",
    "                [no_meal_data, n_m_data['Sensor Glucose (mg/dL)'][:24]], ignore_index=True, axis=1)\n",
    "\n",
    "    meal_data = meal_data.transpose()\n",
    "    no_meal_data = no_meal_data.transpose()\n",
    "\n",
    "    return [meal_data, no_meal_data]"
   ]
  },
  {
   "cell_type": "code",
   "execution_count": 4,
   "metadata": {},
   "outputs": [],
   "source": [
    "def calcSlope(series):\n",
    "    res = np.polyfit(range(len(series)), series, 1)\n",
    "    return res[0]\n",
    "    \n",
    "def extract_features(data_matrix, features, is_meal=True):\n",
    "\n",
    "    if is_meal:\n",
    "        cols = features+[\"carbs\"]\n",
    "    else:\n",
    "        cols = features\n",
    "    feature_matrix = pd.DataFrame(columns=cols)\n",
    "    slope_sampling_size = 2\n",
    "    num_of_zcs = 3\n",
    "    num_of_fds = 3\n",
    "\n",
    "    app_ci = True\n",
    "    app_dist = True\n",
    "\n",
    "    for ind, data in data_matrix.iterrows():\n",
    "\n",
    "        # print(data)\n",
    "        # print(ind)\n",
    "\n",
    "        carb_val = None\n",
    "        if is_meal:\n",
    "            carb_val = data.iloc[30]\n",
    "            data.drop(30, inplace=True)\n",
    "        # Max-Min Distance Feature\n",
    "        f1_diff = data.max() - data.min()\n",
    "        if isnan(f1_diff):\n",
    "            continue\n",
    "\n",
    "\n",
    "        # Slope feature\n",
    "        slope_res = data.rolling(slope_sampling_size).apply(calcSlope, raw=False)\n",
    "        slope_res = slope_res.fillna(0)\n",
    "\n",
    "        f5_maxSlope = max(slope_res)\n",
    "\n",
    "        zero_crossings = np.where(np.diff(np.sign(slope_res)))[\n",
    "            0]   # Zero crossing indexes of slope\n",
    "        zero_crossings = np.hstack(\n",
    "            [zero_crossings, np.array(len(slope_res)-1)])\n",
    "        zero_cross_dist_df = pd.DataFrame(columns=['cross_index', 'distance'])\n",
    "        zc_idx = 0\n",
    "        for idx, slope_idx in enumerate(zero_crossings):\n",
    "            if (idx < 2) or (idx == (len(zero_crossings)-1)):\n",
    "                pass\n",
    "            else:\n",
    "                # Calculate the dist between Max and Min slopes on either sides of a zero crossing\n",
    "                # Max and Min sides depends on the sign of slope at zero crossing (if '-', the curve is increasing (Max->right, Min->left) and vice versa)\n",
    "                if slope_res[slope_idx] < 0:\n",
    "                    dist = max(slope_res[slope_idx:zero_crossings[idx+1]+1]) - \\\n",
    "                        min(slope_res[zero_crossings[idx-1]:slope_idx+1])\n",
    "                else:\n",
    "                    dist = max(slope_res[zero_crossings[idx-1]:slope_idx+1]) - \\\n",
    "                        min(slope_res[slope_idx:zero_crossings[idx+1]+1])\n",
    "                zero_cross_dist_df.loc[zc_idx] = [slope_idx, dist]\n",
    "                zc_idx += 1\n",
    "\n",
    "        zero_cross_dist_df.sort_values(\n",
    "            ['distance'], inplace=True, ascending=False)\n",
    "        zero_cross_dist_df.reset_index(inplace=True)\n",
    "\n",
    "        f2_slope_zero_cross_ordered_dist = []\n",
    "        len_zero_cross_dist_df = len(zero_cross_dist_df)\n",
    "\n",
    "        if len_zero_cross_dist_df < 3:\n",
    "            # # Skip data that has less than three slope zero crossings\n",
    "            continue\n",
    "\n",
    "        for i in range(num_of_zcs):\n",
    "            if (app_dist):\n",
    "                f2_slope_zero_cross_ordered_dist.append(\n",
    "                    zero_cross_dist_df.loc[i, ['distance']].values[0])\n",
    "            if (app_ci):\n",
    "                f2_slope_zero_cross_ordered_dist.append(\n",
    "                    zero_cross_dist_df.loc[i, ['cross_index']].values[0])\n",
    "\n",
    "        # Max-Min Value Index range/distance Feature\n",
    "        f3_slot_diff = abs(data.idxmax() - data.idxmin())\n",
    "        if isnan(f3_slot_diff):\n",
    "            continue\n",
    "\n",
    "        f6_max_meal_time = (data.idxmax() * 5)  # time to reach max glucose in minutes\n",
    "        # print(f6_max_meal_time)\n",
    "\n",
    "        # Frequency Domain Feature\n",
    "        # Normalize data\n",
    "        norm_data = data - data.mean()\n",
    "\n",
    "        yf = rfft(norm_data.values)\n",
    "        xf = rfftfreq(len(norm_data))\n",
    "        yf = np.abs(yf)\n",
    "\n",
    "        # Extract peaks\n",
    "        peak_idxs, _ = find_peaks(yf)\n",
    "        peaks = yf[peak_idxs]\n",
    "        peaks.sort()\n",
    "        peaks = peaks[::-1]\n",
    "        f4_freq_domain = list(peaks[:num_of_fds])\n",
    "        if len(f4_freq_domain) < num_of_fds:\n",
    "            # # Skip data that has less than 3 frequency peaks after FFT\n",
    "            continue\n",
    "        if is_meal:\n",
    "            # print(feature_matrix.columns)\n",
    "            # print(f5_maxSlope, f6_max_meal_time)\n",
    "            # print([f1_diff] + f2_slope_zero_cross_ordered_dist + \\\n",
    "            #     [f3_slot_diff] + f4_freq_domain + [f5_maxSlope, f6_max_meal_time, carb_val])\n",
    "            feature_matrix.loc[ind] = [f1_diff] + f2_slope_zero_cross_ordered_dist + \\\n",
    "                [f3_slot_diff] + f4_freq_domain + [f5_maxSlope, f6_max_meal_time, carb_val]\n",
    "        else:\n",
    "            feature_matrix.loc[ind] = [f1_diff] + f2_slope_zero_cross_ordered_dist + \\\n",
    "                [f3_slot_diff] + f4_freq_domain + [f5_maxSlope, f6_max_meal_time]\n",
    "\n",
    "    return feature_matrix"
   ]
  },
  {
   "cell_type": "code",
   "execution_count": 5,
   "metadata": {},
   "outputs": [],
   "source": [
    "def split_data_label_sets(data_matrix_1, features, target):\n",
    "\n",
    "    x_train = np.array(data_matrix_1.loc[:, features])\n",
    "    # train_data_2 = data_matrix_2.loc[:, features].to_numpy()\n",
    "\n",
    "    y_train = np.array(data_matrix_1.loc[:, [target]])\n",
    "    # train_label_2 = data_matrix_2.loc[:, [target]].to_numpy()\n",
    "\n",
    "    # x_train = np.vstack([train_data_1, train_data_2])\n",
    "    # y_train = np.vstack([train_label_1, train_label_2])\n",
    "\n",
    "    return [x_train, y_train]\n"
   ]
  },
  {
   "cell_type": "code",
   "execution_count": 6,
   "metadata": {},
   "outputs": [],
   "source": [
    "def calc_entropy(split_counts, n):\n",
    "    res = 0\n",
    "    for key in split_counts.keys():\n",
    "        fraction = float(split_counts[key])/n\n",
    "        res -= ((fraction)*(log(fraction, 2.0)))\n",
    "    return res\n",
    "\n",
    "def calc_entropy_from_matrix(matrix, total_value_count):\n",
    "    weighted_entropy = []\n",
    "    for cluster in matrix.keys():\n",
    "        cluster_entropy = 0\n",
    "        cluster_val_count = sum(matrix[cluster].values())\n",
    "        for bin in matrix[cluster].keys():\n",
    "            fraction = float(matrix[cluster][bin])/cluster_val_count\n",
    "            cluster_entropy -= ((fraction)*(log(fraction, 2.0)))\n",
    "        weighted_entropy.append((float(cluster_val_count)/total_value_count)*cluster_entropy)\n",
    "    # print(weighted_entropy)\n",
    "    return(sum(weighted_entropy))\n",
    "\n",
    "def calc_purity_from_matrix(matrix, total_value_count):\n",
    "    weighted_purity = []\n",
    "    for cluster in matrix.keys():\n",
    "        cluster_purity = 0.0\n",
    "        cluster_val_count = sum(matrix[cluster].values())\n",
    "        for bin in matrix[cluster].keys():\n",
    "            cluster_purity = max(cluster_purity, float(matrix[cluster][bin])/cluster_val_count)\n",
    "        weighted_purity.append((float(cluster_val_count)/total_value_count)*cluster_purity)\n",
    "    # print(weighted_purity)\n",
    "    return(sum(weighted_purity))\n",
    "\n",
    "def calc_purity(split_counts, n):\n",
    "    res = 0.0\n",
    "    for key in split_counts.keys():\n",
    "        res = max(res, float(split_counts[key])/n)\n",
    "    return res"
   ]
  },
  {
   "cell_type": "code",
   "execution_count": 7,
   "metadata": {},
   "outputs": [],
   "source": [
    "def build_matrix(predictions, carb_values):\n",
    "    gt_pred_matrix = defaultdict(lambda: defaultdict(int))\n",
    "    min_carb = min(carb_values)\n",
    "    i = 0\n",
    "    while i < len(predictions):\n",
    "        gt_pred_matrix[predictions[i]][int((carb_values[i]-min_carb)/20)] += 1\n",
    "        i+=1\n",
    "    return gt_pred_matrix\n",
    "    "
   ]
  },
  {
   "cell_type": "markdown",
   "metadata": {},
   "source": [
    "# ENTRY POINT"
   ]
  },
  {
   "cell_type": "code",
   "execution_count": 8,
   "metadata": {},
   "outputs": [],
   "source": [
    "# Entry Point\n",
    "\n",
    "#FROMAT: [cgm_data, insulin_data]\n",
    "# training_input_files = [[\"data/CGMData.csv\", \"data/InsulinData.csv\"]]\n",
    "                        # [\"data/CGMData670GPatient3.csv\", \"data/InsulinAndMealIntake670GPatient3.csv\"]]\n",
    "\n",
    "# meal_train_data_matrix_1, no_meal_train_data_matrix_1 = extract_meal_and_no_meal_instances(\n",
    "#     training_input_files[0][0], training_input_files[0][1])\n",
    "# meal_train_data_matrix_2, no_meal_train_data_matrix_2 = extract_meal_and_no_meal_instances(\n",
    "#     training_input_files[1][0], training_input_files[1][1])\n",
    "\n",
    "\n",
    "training_input_files = [\n",
    "    [\"CGMData.csv\", \"InsulinData.csv\"]]\n",
    "training_input_files = [\n",
    "    [\"data/CGMData.csv\", \"data/InsulinData.csv\"]]\n",
    "    # [\"data/CGMData670GPatient3.csv\", \"data/InsulinAndMealIntake670GPatient3.csv\"]]\n",
    "\n",
    "meal_train_data_matrix_1, no_meal_train_data_matrix_1 = extract_meal_and_no_meal_instances(\n",
    "    training_input_files[0][0], training_input_files[0][1])\n"
   ]
  },
  {
   "cell_type": "code",
   "execution_count": 9,
   "metadata": {},
   "outputs": [],
   "source": [
    "# meal_train_data_matrix_1.fillna(meal_train_data_matrix_1.mean(axis=1), axis=1)\n",
    "# meal_train_data_matrix_1 = meal_train_data_matrix_1.T.fillna(meal_train_data_matrix_1.mean(axis=1)).T"
   ]
  },
  {
   "cell_type": "code",
   "execution_count": 36,
   "metadata": {},
   "outputs": [
    {
     "data": {
      "text/plain": [
       "array([[ 58.,  59.,  63.,  71.,  81., 102., 131., 140., 147., 153., 159.,\n",
       "        163., 159., 153., 151., 155., 163., 164.,  nan, 166., 168., 164.,\n",
       "        169., 178., 184., 190., 195., 198., 203., 196., 115.]])"
      ]
     },
     "execution_count": 36,
     "metadata": {},
     "output_type": "execute_result"
    }
   ],
   "source": [
    "meal_train_data_matrix_1[:1].values"
   ]
  },
  {
   "cell_type": "code",
   "execution_count": 51,
   "metadata": {},
   "outputs": [
    {
     "data": {
      "image/png": "[encoded data removed]",
      "text/plain": [
       "<Figure size 432x288 with 1 Axes>"
      ]
     },
     "metadata": {},
     "output_type": "display_data"
    }
   ],
   "source": [
    "# plt.style.use(\"fivethirtyeight\")\n",
    "row = meal_train_data_matrix_1.iloc[2]\n",
    "# row = no_meal_train_data_matrix_1.iloc[2]\n",
    "row.plot(kind=\"line\")\n",
    "# plt.xticks(range(1, 30))\n",
    "plt.xlabel(\"Meal Time Window\")\n",
    "plt.ylabel(\"CGM Value\")\n",
    "plt.show()"
   ]
  },
  {
   "cell_type": "code",
   "execution_count": 12,
   "metadata": {},
   "outputs": [],
   "source": [
    "# print(meal_train_data_matrix_1.iloc[0:5, [x for x in range(30)]])\n",
    "# print(meal_train_data_matrix_1.iloc[:, [30]])\n",
    "max_carb = meal_train_data_matrix_1.iloc[:, [30]].max()\n",
    "min_carb = meal_train_data_matrix_1.iloc[:, [30]].min()\n",
    "# meal_train_data_matrix_1.drop(30, inplace=True, axis=1)\n",
    "# print(meal_train_data_matrix_1.head(5))\n",
    "# print(carbs)\n",
    "# print(max_carb)\n",
    "# print(min_carb)"
   ]
  },
  {
   "cell_type": "code",
   "execution_count": 13,
   "metadata": {},
   "outputs": [],
   "source": [
    "features = ['f1_diff',\n",
    "            'f2_slope_cross_dist_1',\n",
    "            'f2_slope_cross_slot_1',\n",
    "            'f2_slope_cross_dist_2',\n",
    "            'f2_slope_cross_slot_2',\n",
    "            'f2_slope_cross_dist_3',\n",
    "            'f2_slope_cross_slot_3',\n",
    "            'f3_slot_diff',\n",
    "            'f4_dom_freq_1',\n",
    "            'f4_dom_freq_2',\n",
    "            'f4_dom_freq_3',\n",
    "            'f5_max_slope',\n",
    "            'f6_time_to_max_insulin']\n",
    "\n",
    "meal_feature_1 = extract_features(meal_train_data_matrix_1, features, True)\n"
   ]
  },
  {
   "cell_type": "code",
   "execution_count": 14,
   "metadata": {},
   "outputs": [],
   "source": [
    "features = ['f1_diff',\n",
    "            'f2_slope_cross_dist_1',\n",
    "            'f2_slope_cross_slot_1',\n",
    "            'f2_slope_cross_dist_2',\n",
    "            'f2_slope_cross_slot_2',\n",
    "            'f2_slope_cross_dist_3',\n",
    "            'f2_slope_cross_slot_3',\n",
    "            'f3_slot_diff',\n",
    "            'f4_dom_freq_1',\n",
    "            'f4_dom_freq_2',\n",
    "            'f4_dom_freq_3',\n",
    "            'f5_max_slope',\n",
    "            'f6_time_to_max_insulin']\n",
    "            \n",
    "target = 'carbs'\n",
    "x_train_1, y_train_1 = split_data_label_sets(\n",
    "    meal_feature_1, features, target)"
   ]
  },
  {
   "cell_type": "code",
   "execution_count": 15,
   "metadata": {},
   "outputs": [],
   "source": [
    "# Ground truth based on carbs input:\n",
    "meal_bin_label = []\n",
    "n_bins = ceil((max_carb-min_carb)/20)\n",
    "for carb in y_train_1:\n",
    "    meal_bin_label.append(int((carb-min_carb)/20))\n",
    "# for ind, carb in meal_train_data_matrix_1.iloc[:, [30]].iterrows():\n",
    "#     meal_bin_label.append(int((carb[30]-min_carb)/20))\n",
    "meal_bin_label = np.array(meal_bin_label)\n",
    "# print(n_bins)\n",
    "# print(meal_bin_label[:])\n",
    "# print(meal_train_data_matrix_1.iloc[:, [30]])"
   ]
  },
  {
   "cell_type": "code",
   "execution_count": 16,
   "metadata": {},
   "outputs": [],
   "source": [
    "pca_param_grid = {'whiten': [True, False],\n",
    "                  'svd_solver': ['auto'],\n",
    "                  'copy': [True],\n",
    "                  'tol': [0.0, 0.1, 0.01, 0.001, 1.0, 0.0001],\n",
    "                  'iterated_power': ['auto', 1, 10, 100, 1000],\n",
    "                #   'n_components': [0.90, 0.93, 0.95, 0.96, 0.97, 0.98, 0.99]}\n",
    "                  'n_components': [3, 4, 6, 7]}\n",
    "                  # 'n_components': [4]}\n",
    "\n",
    "pca = GridSearchCV(PCA(), pca_param_grid, refit=True, verbose=1)"
   ]
  },
  {
   "cell_type": "code",
   "execution_count": 17,
   "metadata": {},
   "outputs": [
    {
     "name": "stderr",
     "output_type": "stream",
     "text": [
      "/Library/Frameworks/Python.framework/Versions/2.7/lib/python2.7/site-packages/sklearn/model_selection/_split.py:2052: FutureWarning: You should specify a value for 'cv' instead of relying on the default value. The default value will change from 3 to 5 in version 0.22.\n",
      "  warnings.warn(CV_WARNING, FutureWarning)\n",
      "[Parallel(n_jobs=1)]: Using backend SequentialBackend with 1 concurrent workers.\n"
     ]
    },
    {
     "name": "stdout",
     "output_type": "stream",
     "text": [
      "Fitting 3 folds for each of 240 candidates, totalling 720 fits\n"
     ]
    },
    {
     "name": "stderr",
     "output_type": "stream",
     "text": [
      "[Parallel(n_jobs=1)]: Done 720 out of 720 | elapsed:    0.8s finished\n",
      "/Library/Frameworks/Python.framework/Versions/2.7/lib/python2.7/site-packages/sklearn/model_selection/_search.py:842: DeprecationWarning: The default of the `iid` parameter will change from True to False in version 0.22 and will be removed in 0.24. This will change numeric results when test-set sizes are unequal.\n",
      "  DeprecationWarning)\n"
     ]
    },
    {
     "data": {
      "text/plain": [
       "GridSearchCV(cv='warn', error_score='raise-deprecating',\n",
       "       estimator=PCA(copy=True, iterated_power='auto', n_components=None, random_state=None,\n",
       "  svd_solver='auto', tol=0.0, whiten=False),\n",
       "       fit_params=None, iid='warn', n_jobs=None,\n",
       "       param_grid={'svd_solver': ['auto'], 'iterated_power': ['auto', 1, 10, 100, 1000], 'n_components': [3, 4, 6, 7], 'tol': [0.0, 0.1, 0.01, 0.001, 1.0, 0.0001], 'copy': [True], 'whiten': [True, False]},\n",
       "       pre_dispatch='2*n_jobs', refit=True, return_train_score='warn',\n",
       "       scoring=None, verbose=1)"
      ]
     },
     "execution_count": 17,
     "metadata": {},
     "output_type": "execute_result"
    }
   ],
   "source": [
    "# Standardization\n",
    "\n",
    "# feature_mean_1 = x_train_1.mean(axis=0)\n",
    "# feature_max_min_diff_1 = x_train_1.max(axis=0) - x_train_1.min(axis=0)\n",
    "\n",
    "std_scalar = StandardScaler()\n",
    "std_scalar.fit(x_train_1)\n",
    "\n",
    "\n",
    "x_train_1 = std_scalar.transform(x_train_1)\n",
    "\n",
    "# PCA\n",
    "\n",
    "pca.fit(x_train_1)\n",
    "\n",
    "# CLUSTER\n",
    "# kmeans.fit(x_train_1)\n"
   ]
  },
  {
   "cell_type": "code",
   "execution_count": 18,
   "metadata": {},
   "outputs": [],
   "source": [
    "# x_train_1 = pca.transform(x_train_1)"
   ]
  },
  {
   "cell_type": "code",
   "execution_count": 19,
   "metadata": {},
   "outputs": [],
   "source": [
    "kmeans_kwargs = {\n",
    "    \"init\": \"random\",\n",
    "    \"n_init\": 10,\n",
    "    \"max_iter\": 300,\n",
    "    \"random_state\": 42,\n",
    "}"
   ]
  },
  {
   "cell_type": "code",
   "execution_count": 20,
   "metadata": {},
   "outputs": [
    {
     "data": {
      "image/png": "[encoded data removed]",
      "text/plain": [
       "<Figure size 432x288 with 1 Axes>"
      ]
     },
     "metadata": {},
     "output_type": "display_data"
    },
    {
     "data": {
      "image/png": "[encoded data removed]",
      "text/plain": [
       "<Figure size 432x288 with 1 Axes>"
      ]
     },
     "metadata": {},
     "output_type": "display_data"
    }
   ],
   "source": [
    "# A list holds the SSE values for each k\n",
    "sse = []\n",
    "for k in range(1, 11):\n",
    "    kmeans = KMeans(n_clusters=k, **kmeans_kwargs)\n",
    "    kmeans.fit(x_train_1)\n",
    "    sse.append(kmeans.inertia_)\n",
    "\n",
    "plt.style.use(\"fivethirtyeight\")\n",
    "plt.plot(range(1, 11), sse)\n",
    "plt.xticks(range(1, 11))\n",
    "plt.xlabel(\"Number of Clusters\")\n",
    "plt.ylabel(\"SSE\")\n",
    "plt.show()\n",
    "# # A list holds the silhouette coefficients for each k\n",
    "silhouette_coefficients = []\n",
    "\n",
    "# Notice you start at 2 clusters for silhouette coefficient\n",
    "for k in range(2, 11):\n",
    "    kmeans = KMeans(n_clusters=k, **kmeans_kwargs)\n",
    "    kmeans.fit(x_train_1)\n",
    "    score = silhouette_score(x_train_1, kmeans.labels_)\n",
    "    silhouette_coefficients.append(score)\n",
    "\n",
    "plt.style.use(\"fivethirtyeight\")\n",
    "plt.plot(range(2, 11), silhouette_coefficients)\n",
    "plt.xticks(range(2, 11))\n",
    "plt.xlabel(\"Number of Clusters\")\n",
    "plt.ylabel(\"Silhouette Coefficient\")\n",
    "plt.show()"
   ]
  },
  {
   "cell_type": "code",
   "execution_count": 21,
   "metadata": {},
   "outputs": [],
   "source": [
    "neigh = NearestNeighbors(n_neighbors=2)\n",
    "nbrs = neigh.fit(x_train_1)\n",
    "distances, indices = nbrs.kneighbors(x_train_1)\n",
    "# print(distances.mean(axis=0))\n",
    "# for i in range(len(distances)):\n",
    "#     print(indices[i][:], distances[i][1])"
   ]
  },
  {
   "cell_type": "code",
   "execution_count": 22,
   "metadata": {},
   "outputs": [],
   "source": [
    "# Instantiate k-means and dbscan algorithms\n",
    "kmeans = KMeans(n_clusters=6)\n",
    "# With FillNA\n",
    "# dbscan = DBSCAN(eps=1, min_samples=10) # Working with PCA\n",
    "# dbscan = DBSCAN(eps=1.7, min_samples=4) # Working without PCA\n",
    "# dbscan = DBSCAN(eps=1.5, min_samples=5)\n",
    "\n",
    "# Without FillNa\n",
    "dbscan = DBSCAN(eps=1.7, min_samples=4)"
   ]
  },
  {
   "cell_type": "code",
   "execution_count": 23,
   "metadata": {},
   "outputs": [
    {
     "data": {
      "text/plain": [
       "DBSCAN(algorithm='auto', eps=1.7, leaf_size=30, metric='euclidean',\n",
       "    metric_params=None, min_samples=4, n_jobs=None, p=None)"
      ]
     },
     "execution_count": 23,
     "metadata": {},
     "output_type": "execute_result"
    }
   ],
   "source": [
    "# Fit the algorithms to the features\n",
    "# print(x_train_1)\n",
    "kmeans.fit(x_train_1)\n",
    "dbscan.fit(x_train_1)\n"
   ]
  },
  {
   "cell_type": "code",
   "execution_count": 24,
   "metadata": {},
   "outputs": [
    {
     "data": {
      "text/plain": [
       "array([-1, -1,  0, -1, -1, -1, -1, -1, -1, -1, -1,  0,  1, -1, -1, -1, -1,\n",
       "       -1, -1, -1,  0, -1, -1, -1, -1, -1,  0, -1, -1, -1, -1, -1, -1, -1,\n",
       "       -1, -1, -1,  0,  0, -1, -1, -1, -1, -1, -1, -1, -1, -1, -1, -1, -1,\n",
       "       -1, -1, -1,  1, -1, -1, -1,  0, -1, -1, -1, -1,  0, -1, -1,  0, -1,\n",
       "       -1,  0, -1, -1,  2, -1, -1, -1, -1,  0, -1, -1, -1, -1, -1, -1, -1,\n",
       "       -1, -1, -1, -1, -1, -1,  2, -1,  3,  1, -1, -1, -1, -1, -1,  3, -1,\n",
       "       -1,  0, -1, -1, -1, -1, -1, -1, -1, -1, -1,  0, -1, -1, -1, -1, -1,\n",
       "       -1, -1, -1, -1, -1, -1, -1, -1, -1, -1, -1, -1,  0, -1, -1, -1, -1,\n",
       "        3, -1, -1, -1, -1, -1, -1, -1, -1, -1, -1, -1,  0, -1, -1, -1, -1,\n",
       "       -1,  1, -1, -1, -1, -1, -1, -1, -1, -1,  0, -1, -1, -1,  2, -1, -1,\n",
       "       -1, -1, -1, -1,  0, -1, -1, -1, -1, -1, -1, -1, -1, -1,  1, -1, -1,\n",
       "       -1,  1, -1, -1, -1, -1, -1,  0, -1, -1, -1, -1, -1, -1, -1, -1, -1,\n",
       "       -1, -1,  0, -1, -1, -1,  0, -1, -1, -1, -1, -1, -1, -1, -1, -1, -1,\n",
       "       -1, -1, -1, -1, -1, -1, -1, -1, -1,  3,  0, -1, -1, -1, -1, -1, -1,\n",
       "       -1, -1, -1, -1, -1, -1,  3, -1,  0, -1, -1, -1, -1, -1, -1, -1, -1,\n",
       "       -1, -1])"
      ]
     },
     "execution_count": 24,
     "metadata": {},
     "output_type": "execute_result"
    }
   ],
   "source": [
    "dbscan.labels_"
   ]
  },
  {
   "cell_type": "code",
   "execution_count": 25,
   "metadata": {},
   "outputs": [],
   "source": [
    "def getMaxsse(input_dict):\n",
    "    maxi = [0, 0]\n",
    "    for key in input_dict.keys():\n",
    "        # print(input_dict)\n",
    "        if input_dict[key] > maxi[1]:\n",
    "            maxi = [key, input_dict[key]]\n",
    "    return maxi[0]\n",
    "\n",
    "def calculate_cluster_wise_sse(points, pred_cluster_labels, ground_truth_labels, get_max_sse_cluster=False):\n",
    "    cluster_points = defaultdict(list)\n",
    "    cluster_point_labels = defaultdict(list)\n",
    "    i = 0\n",
    "    for feat, pred_lab, gt_label in zip(points, pred_cluster_labels, ground_truth_labels):\n",
    "    # for feat, pred_lab, carb in zip(x_train_1, kmeans.labels_, y_train_1):\n",
    "        # print(\"\\nIndex: {}\\nFeatures: {}, \\nBin: {}\".format(ind, feat, pred_lab))\n",
    "        cluster_points[pred_lab].append(feat)\n",
    "        cluster_point_labels[pred_lab].append(gt_label)\n",
    "\n",
    "    cluster_centroids = defaultdict(list)\n",
    "\n",
    "    for cluster in cluster_points.keys():\n",
    "        cluster_centroids[cluster] = np.mean(cluster_points[cluster], axis=0)\n",
    "\n",
    "    # Calculate SSE\n",
    "    cluster_sse = defaultdict(int)\n",
    "\n",
    "    for cluster in cluster_points.keys():\n",
    "        for point in cluster_points[cluster]:\n",
    "            cluster_sse[cluster] += np.sum(np.square(point - cluster_centroids[cluster]))\n",
    "\n",
    "    if get_max_sse_cluster:\n",
    "        # print(cluster_sse)\n",
    "        max_sse_cluster = getMaxsse(cluster_sse)\n",
    "        return (cluster_points[max_sse_cluster], max_sse_cluster, cluster_point_labels[max_sse_cluster], cluster_sse)\n",
    "    return cluster_sse\n",
    "    \n"
   ]
  },
  {
   "cell_type": "code",
   "execution_count": 26,
   "metadata": {},
   "outputs": [],
   "source": [
    "def dbscan_with_bisecting_kmeans(data_points, label_start):\n",
    "    # print(data_points)\n",
    "    bis_kmeans = KMeans(n_clusters=2)\n",
    "    bis_kmeans.fit(data_points)\n",
    "    return bis_kmeans.labels_ + label_start"
   ]
  },
  {
   "cell_type": "code",
   "execution_count": 27,
   "metadata": {},
   "outputs": [],
   "source": [
    "# %%\n",
    "# K-Means\n",
    "kMeans_class_split = defaultdict(int)\n",
    "dbscan_class_split = defaultdict(int)\n",
    "\n",
    "for clas in kmeans.labels_:\n",
    "    kMeans_class_split[clas+1] += 1\n",
    "\n",
    "for clas in dbscan.labels_:\n",
    "    dbscan_class_split[clas+1] += 1\n",
    "\n",
    "\n",
    "#TODO: Compute Clusterwise SSE of DBSCAN and do bisecting K-Means\n",
    "\n",
    "kMeans_cluster_sse = calculate_cluster_wise_sse(x_train_1, kmeans.labels_, y_train_1)\n",
    "\n",
    "dbscan_labels = dbscan.labels_\n",
    "\n",
    "dbscan_max_sse_cluster_points, dbscan_max_sse_cluster, dbscan_max_sse_cluster_gt_labels, dbscan_cluster_sse = calculate_cluster_wise_sse(x_train_1, dbscan_labels, y_train_1, True)\n",
    "# print(dbscan_max_sse_cluster)\n",
    "number_of_dbscan_clusters = len(dbscan_cluster_sse.values())\n",
    "\n",
    "# DO Bisecting K-Means on highest SSE clusters until n_bins clusters are achieved\n",
    "while number_of_dbscan_clusters < n_bins:\n",
    "    dbscan_bis_labels = dbscan_with_bisecting_kmeans(dbscan_max_sse_cluster_points, max(dbscan_cluster_sse.keys())+1)\n",
    "    j = 0\n",
    "    for i in range(len(dbscan_labels)):\n",
    "        if dbscan_labels[i] == dbscan_max_sse_cluster:\n",
    "            dbscan_labels[i] = dbscan_bis_labels[j]\n",
    "            j += 1\n",
    "    dbscan_max_sse_cluster_points, dbscan_max_sse_cluster, dbscan_max_sse_cluster_gt_labels, dbscan_cluster_sse = calculate_cluster_wise_sse(x_train_1, dbscan_labels, y_train_1, True)\n",
    "    number_of_dbscan_clusters = len(dbscan_cluster_sse.values())\n",
    "\n",
    "\n",
    "kMeans_sse = sum(kMeans_cluster_sse.values())\n",
    "dbscan_sse = sum(dbscan_cluster_sse.values())\n",
    "\n",
    "kMeans_label_length = len(kmeans.labels_)\n",
    "dbscan_label_length = len(dbscan_labels)\n",
    "\n",
    "km_ground_truth_predict_matrix = build_matrix(kmeans.labels_, y_train_1)\n",
    "dbs_ground_truth_predict_matrix = build_matrix(dbscan_labels, y_train_1)\n",
    "\n",
    "kMeans_entropy = calc_entropy_from_matrix(km_ground_truth_predict_matrix, kMeans_label_length)\n",
    "\n",
    "dbscan_entropy = calc_entropy_from_matrix(dbs_ground_truth_predict_matrix, dbscan_label_length)\n",
    "\n",
    "kMeans_purity = calc_purity_from_matrix(km_ground_truth_predict_matrix, kMeans_label_length)\n",
    "\n",
    "dbscan_purity = calc_purity_from_matrix(dbs_ground_truth_predict_matrix, dbscan_label_length)\n",
    "\n",
    "# %% [markdown]\n",
    "# # Export Result\n",
    "\n",
    "# # %%\n",
    "result = pd.DataFrame(columns=['SSE for KMeans', 'SSE for DBSCAN', 'Entropy for KMeans', 'Entropy for DBSCAN', 'Purity for KMeans', 'Purity for DBSCAN'])\n",
    "\n",
    "result.loc[0] = [kMeans_sse, dbscan_sse, kMeans_entropy, dbscan_entropy, kMeans_purity, dbscan_purity]\n",
    "\n",
    "result.to_csv('Result.csv', header=False, index=False)"
   ]
  }
 ],
 "metadata": {
  "interpreter": {
   "hash": "ef8d5e935b24b0631058493e758f9731e9054e35b0ddb1f024466022840975ee"
  },
  "kernelspec": {
   "display_name": "Python 3.8.8 64-bit ('venv': venv)",
   "language": "python",
   "name": "python3"
  },
  "language_info": {
   "codemirror_mode": {
    "name": "ipython",
    "version": 2
   },
   "file_extension": ".py",
   "mimetype": "text/x-python",
   "name": "python",
   "nbconvert_exporter": "python",
   "pygments_lexer": "ipython2",
   "version": "2.7.18"
  },
  "orig_nbformat": 4
 },
 "nbformat": 4,
 "nbformat_minor": 2
}
